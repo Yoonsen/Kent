{
 "cells": [
  {
   "cell_type": "code",
   "execution_count": 1,
   "id": "1ae2466a",
   "metadata": {},
   "outputs": [],
   "source": [
    "import re\n",
    "import json\n",
    "\n",
    "import matplotlib.pyplot as plt\n",
    "from bs4 import BeautifulSoup as bs\n",
    "from dhlab.text import nbtokenizer as tokenizer"
   ]
  },
  {
   "cell_type": "code",
   "execution_count": 2,
   "id": "d7016319",
   "metadata": {},
   "outputs": [],
   "source": [
    "with open(\"Andhrimner_6.xml\", 'r') as f:\n",
    "    xml = bs(f.read(), \"lxml\")"
   ]
  },
  {
   "cell_type": "code",
   "execution_count": 3,
   "id": "cb7b38c7",
   "metadata": {},
   "outputs": [],
   "source": [
    "divs = xml.find_all(\"div\")[1:]"
   ]
  },
  {
   "cell_type": "code",
   "execution_count": null,
   "id": "cce67371",
   "metadata": {},
   "outputs": [],
   "source": []
  },
  {
   "cell_type": "code",
   "execution_count": 36,
   "id": "82dbbecb",
   "metadata": {},
   "outputs": [],
   "source": [
    "dist = {}\n",
    "texts = []\n",
    "\n",
    "for idx,div in enumerate(divs):\n",
    "    \n",
    "    hw = div.find_all(\"signed\") # evt med , {\"rend\": \"handwritten\"}\n",
    "    if hw:\n",
    "        for h in hw:\n",
    "            h.decompose()\n",
    "    \n",
    "    author = div.get('resp', False)\n",
    "    genre = div.get('type', 'no_type')\n",
    "    \n",
    "    \n",
    "    if genre == 'prose':\n",
    "        if author:\n",
    "            with open(\"NINA/\"+author+'_'+str(idx+1)+'.txt', 'w') as out:\n",
    "                text = ' '.join(tokenizer.tokenize(re.sub('\\n', ' ', re.sub('-\\n', '', div.text)).strip())).strip()\n",
    "                texts.append(text)\n",
    "                out.write(text)\n",
    "                \n",
    "                if author in dist:\n",
    "                    dist[author] += 1\n",
    "                else:\n",
    "                    dist[author] = 1\n",
    "                "
   ]
  },
  {
   "cell_type": "code",
   "execution_count": 16,
   "id": "9e0b12c8",
   "metadata": {},
   "outputs": [],
   "source": [
    "#plt.bar(*zip(*dist.items()))\n",
    "#plt.show()"
   ]
  },
  {
   "cell_type": "markdown",
   "id": "ff470d53",
   "metadata": {},
   "source": [
    "# Struktur:\n",
    "\n",
    "- Hele Andhrimner som en json-struktur: {tekst: [token_1, token_n], annotasjon: {trykt:\"\", bh:\"\", asterisk:\"\", sjanger:\"\", his:\"\"}}"
   ]
  },
  {
   "cell_type": "code",
   "execution_count": 50,
   "id": "020d5035",
   "metadata": {},
   "outputs": [],
   "source": [
    "andh = []\n",
    "\n",
    "for div in divs:\n",
    "    text = tokenizer.tokenize(re.sub('\\n', ' ', re.sub('-\\n', '', div.text)).strip())\n",
    "        \n",
    "    genre = div.get('type', 'no_type')\n",
    "    his = div.get('resp', 'no_resp')\n",
    "    signed = div.find_all('signed')\n",
    "    \n",
    "    andh.append({\"text\": text, \"annotation\": {\"signed\": [(s.text, s.get('rend', 'trykt')) for s in signed], \"genre\": genre, \"his\": his}})"
   ]
  },
  {
   "cell_type": "code",
   "execution_count": 51,
   "id": "c1297b60",
   "metadata": {},
   "outputs": [],
   "source": [
    "with open(\"Andhrimner.json\", 'w') as out:\n",
    "    json.dump(andh, out)"
   ]
  }
 ],
 "metadata": {
  "kernelspec": {
   "display_name": "Python 3 (ipykernel)",
   "language": "python",
   "name": "python3"
  },
  "language_info": {
   "codemirror_mode": {
    "name": "ipython",
    "version": 3
   },
   "file_extension": ".py",
   "mimetype": "text/x-python",
   "name": "python",
   "nbconvert_exporter": "python",
   "pygments_lexer": "ipython3",
   "version": "3.10.6"
  }
 },
 "nbformat": 4,
 "nbformat_minor": 5
}
