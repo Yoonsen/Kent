{
 "cells": [
  {
   "cell_type": "code",
   "execution_count": 1,
   "id": "104af5cc-4da3-4b5e-a684-70f3c0474a79",
   "metadata": {},
   "outputs": [],
   "source": [
    "import json\n",
    "import pandas as pd"
   ]
  },
  {
   "cell_type": "code",
   "execution_count": 3,
   "id": "6f1e891a-242d-4d9e-8e5b-124e01cb0fb2",
   "metadata": {},
   "outputs": [],
   "source": [
    "fs = \"\"\"Koordinator: og eller men \n",
    "Preposisjoner: ved med uten av for før etter i på over under gjennom til hos \n",
    "Adverb: igjen allerede ikke alltid aldri opp ned ut inn oppe nede ute inne \n",
    "Subjunksjoner: at å om som hvis derfor \n",
    "Hjelpeverb: vil ville skal skulle må \n",
    "Spørreord: hva hvor hvilken hvilket Punktuering: . , ; ! - ? \n",
    "Artikler: en ei et den denne dette disse\"\"\""
   ]
  },
  {
   "cell_type": "code",
   "execution_count": 4,
   "id": "ffdb2e5e-875c-40dc-afa4-28696932a993",
   "metadata": {},
   "outputs": [],
   "source": [
    "featus = \"\"\"og eller men \n",
    "ved med uten av for før för etter i på paa over under gjennom til hos \n",
    "igjen igen allerede ikke alltid aldri aldrig opp op ned ut inn ind oppe ope nede ute inne inde\n",
    "at å aa om som hvis derfor \n",
    "vil ville skal skulle må maa \n",
    "hva hvor hvilken hvilket . , ; ! - ? \n",
    "en ei et den denne dette disse\"\"\""
   ]
  },
  {
   "cell_type": "code",
   "execution_count": 5,
   "id": "de03275e-a125-41ca-99f0-c2dad442ff77",
   "metadata": {},
   "outputs": [],
   "source": [
    "features = featus.split()"
   ]
  },
  {
   "cell_type": "code",
   "execution_count": 7,
   "id": "748ed1da-0c0b-49fb-ad54-a481844c1672",
   "metadata": {},
   "outputs": [],
   "source": [
    "with open(\"Andhrimner.json\") as fp:\n",
    "    andh = json.load(fp)"
   ]
  },
  {
   "cell_type": "markdown",
   "id": "a0e8169f-f002-4b2b-8f99-cd4b12263bab",
   "metadata": {},
   "source": [
    "Make fileoids of Andhrimner."
   ]
  },
  {
   "cell_type": "code",
   "execution_count": 27,
   "id": "2517d1a5-2be8-42ec-b791-cbe96b5eab8b",
   "metadata": {},
   "outputs": [],
   "source": [
    "i = 0\n",
    "for x in andh:\n",
    "    i += 1\n",
    "    sign = x['annotation']['signed']\n",
    "    if sign != []:\n",
    "        signs = '-'.join(['_'.join(x) for x in sign])\n",
    "        fileid = (signs\n",
    "               .replace(' ','')\n",
    "               .replace('.','')\n",
    "               .replace('\"','')\n",
    "               .replace('(','')\n",
    "               .replace(')','')\n",
    "               .replace('**','#')\n",
    "               .replace('*','#')\n",
    "               .replace('„','')\n",
    "               .replace('Af','')\n",
    "               .replace('\\n','=')\n",
    "               .replace(',','')\n",
    "              )\n",
    "        \n",
    "             \n",
    "    else:\n",
    "        fileid = 'nosign'\n",
    "\n",
    "    genre = x['annotation']['genre']\n",
    "    filename = f\"{fileid}--{genre}--{str(i)}.txt\"\n",
    "    with open(f\"Andhrimner2stylo/{filename}\", \"w\") as fp:\n",
    "        fp.write(' '.join(x['text']))"
   ]
  },
  {
   "cell_type": "code",
   "execution_count": 27,
   "id": "ec2d62b0-bdf8-497a-b42a-fd204654d191",
   "metadata": {},
   "outputs": [],
   "source": [
    "i = 0\n",
    "for x in andh:\n",
    "    i += 1\n",
    "    sign = x['annotation']['signed']\n",
    "    if sign != []:\n",
    "        signs = '-'.join(['_'.join(x) for x in sign])\n",
    "        fileid = (signs\n",
    "               .replace(' ','')\n",
    "               .replace('.','')\n",
    "               .replace('\"','')\n",
    "               .replace('(','')\n",
    "               .replace(')','')\n",
    "               .replace('**','#')\n",
    "               .replace('*','#')\n",
    "               .replace('„','')\n",
    "               .replace('Af','')\n",
    "               .replace('\\n','=')\n",
    "               .replace(',','')\n",
    "              )\n",
    "        \n",
    "             \n",
    "    else:\n",
    "        fileid = 'nosign'\n",
    "\n",
    "    genre = x['annotation']['genre']\n",
    "    filename = f\"{fileid}--{genre}--{str(i)}.txt\"\n",
    "    with open(f\"Andhrimner2stylo/{filename}\", \"w\") as fp:\n",
    "        fp.write(' '.join(x['text']))"
   ]
  },
  {
   "cell_type": "code",
   "execution_count": null,
   "id": "1d8c326a-a333-4116-a6f0-f8dc5ef0e2b7",
   "metadata": {},
   "outputs": [],
   "source": []
  }
 ],
 "metadata": {
  "kernelspec": {
   "display_name": "Python 3 (ipykernel)",
   "language": "python",
   "name": "python3"
  },
  "language_info": {
   "codemirror_mode": {
    "name": "ipython",
    "version": 3
   },
   "file_extension": ".py",
   "mimetype": "text/x-python",
   "name": "python",
   "nbconvert_exporter": "python",
   "pygments_lexer": "ipython3",
   "version": "3.9.15"
  }
 },
 "nbformat": 4,
 "nbformat_minor": 5
}
